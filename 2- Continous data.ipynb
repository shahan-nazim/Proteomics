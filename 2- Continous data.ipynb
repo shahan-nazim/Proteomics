{
 "cells": [
  {
   "cell_type": "markdown",
   "id": "5d6ea3ab",
   "metadata": {},
   "source": [
    "# 2. EDA"
   ]
  },
  {
   "cell_type": "markdown",
   "id": "17fb921b",
   "metadata": {},
   "source": [
    "<strong>Pipeline :</strong>\n",
    "1. Proteins which were missing in more than 30% samples have been removed\n",
    "2. Check for the data charastricits via box plot or dot plot\n",
    "3. We will decide if we should do the VSN now or not\n",
    "4. We will do the QC plots for\n",
    "    1. QQ plots\n",
    "    2. MA plots\n",
    "    3. PCA\n",
    "    \n",
    "<strong>Analysis TODO:</strong>\n",
    "1. Analysis 1: Healthy Control Before vs. Asthma Before\n",
    "2. Analysis 2: Healthy Control After vs. Asthma After"
   ]
  },
  {
   "cell_type": "code",
   "execution_count": 10,
   "id": "4ca7cc62",
   "metadata": {},
   "outputs": [],
   "source": [
    "# Import the libraries\n",
    "import pandas as pd\n",
    "import numpy as np\n",
    "import matplotlib.pyplot as plt\n",
    "import seaborn as sns\n",
    "import os\n",
    "import pandas as pd\n",
    "import yaml\n",
    "\n",
    "# Load configuration\n",
    "with open('config.yaml', 'r') as file:\n",
    "    config = yaml.safe_load(file)\n",
    "\n",
    "# Accessing config values\n",
    "categorized_dir = config['datasets']['categorized_dir']\n",
    "normalized_dir = config['datasets']['normalized_dir']"
   ]
  },
  {
   "cell_type": "code",
   "execution_count": 11,
   "id": "56e955a5",
   "metadata": {},
   "outputs": [],
   "source": [
    "#from config we are now taking the data from catagorized and filtered data (the dir) we have specified in our yaml config file\n",
    "# Construct the file paths\n",
    "asthma_after = os.path.join(categorized_dir, 'df_after_asthma_filtered.csv')\n",
    "asthma_before = os.path.join(categorized_dir, 'df_before_asthma_filtered.csv')\n",
    "control_after = os.path.join(categorized_dir, 'df_after_control_filtered.csv')\n",
    "control_before = os.path.join(categorized_dir, 'df_before_control_filtered.csv')\n",
    "\n",
    "# Import the data\n",
    "df_asthma_after = pd.read_csv(asthma_after)\n",
    "df_asthma_before = pd.read_csv(asthma_before)\n",
    "df_control_after = pd.read_csv(control_after)\n",
    "df_control_before = pd.read_csv(control_before)"
   ]
  },
  {
   "cell_type": "code",
   "execution_count": 14,
   "id": "730a8407",
   "metadata": {},
   "outputs": [],
   "source": [
    "# for reordering the columns (proteins first) \n",
    "def reorder(df):\n",
    "    last_column = df.pop('Protiens')\n",
    "    df.insert(0, 'Protiens', last_column)\n",
    "    return df\n",
    "\n",
    "df_list = [\n",
    "    (df_asthma_after, asthma_after), \n",
    "    (df_asthma_before, asthma_before), \n",
    "    (df_control_after, control_after), \n",
    "    (df_control_before, control_before)\n",
    "]\n",
    "\n",
    "# Reorder columns and save the dataframes back to CSV\n",
    "for df, path in df_list:\n",
    "    df = reorder(df)\n",
    "    df.to_csv(path, index=False)"
   ]
  },
  {
   "cell_type": "code",
   "execution_count": null,
   "id": "0da3a815",
   "metadata": {},
   "outputs": [],
   "source": [
    "#creating the plot to see the data distribution, identifing the outliers\n",
    "def create_plot(df):\n",
    "    # Melt the DataFrame\n",
    "    df_long = pd.melt(df, id_vars='Protiens', var_name='Sample', value_name='Abundance')\n",
    "\n",
    "    # Calculate Q1, Q2 (median), Q3 for each protein\n",
    "    quartiles = df_long.groupby('Protiens')['Abundance'].quantile([0.25, 0.5, 0.75]).unstack()\n",
    "    quartiles.columns = ['Q1', 'Q2', 'Q3']\n",
    "    \n",
    "    # Reset index to merge with original df_long\n",
    "    quartiles.reset_index(inplace=True)\n",
    "    df_long = pd.merge(df_long, quartiles, on='Protiens', how='left')\n",
    "\n",
    "    # Start plotting\n",
    "    plt.figure(figsize=(12, 8))\n",
    "    \n",
    "    # Plotting the median with error bars\n",
    "    for index, row in quartiles.iterrows():\n",
    "        plt.errorbar(row['Protiens'], row['Q2'], yerr=[[row['Q2']-row['Q1']], [row['Q3']-row['Q2']]], fmt='o', color='blue', capsize=5)\n",
    "\n",
    "    # Adding a strip plot of individual points\n",
    "    sns.stripplot(data=df_long, x='Protiens', y='Abundance', color='gray', alpha=0.5, jitter=True)\n",
    "\n",
    "    plt.xticks(rotation=45)  # Rotates x-axis labels for better visibility\n",
    "    plt.legend(['Median (Q2) with Q1 and Q3'])\n",
    "    plt.show()"
   ]
  },
  {
   "cell_type": "markdown",
   "id": "1910d7f9",
   "metadata": {},
   "source": [
    "<strong> EDA is done nownow doing the EDA</strong>\n",
    "1. itterate over the rows\n",
    "2. take the Quatrile 1, 3 and mean of the data (across the proeien axis for the whole data set\n",
    "3. Plot these 3 (Q1, mean and Q3 on a chart and also the values (for each individual protein on the y axis (this isto have a look at the data dispersion)\n",
    "4. also varience of each protein needs to be checked (across the sampeles)"
   ]
  }
 ],
 "metadata": {
  "kernelspec": {
   "display_name": "Python 3 (ipykernel)",
   "language": "python",
   "name": "python3"
  },
  "language_info": {
   "codemirror_mode": {
    "name": "ipython",
    "version": 3
   },
   "file_extension": ".py",
   "mimetype": "text/x-python",
   "name": "python",
   "nbconvert_exporter": "python",
   "pygments_lexer": "ipython3",
   "version": "3.10.9"
  }
 },
 "nbformat": 4,
 "nbformat_minor": 5
}
