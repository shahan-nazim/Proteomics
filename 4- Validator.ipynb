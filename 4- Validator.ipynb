{
 "cells": [
  {
   "cell_type": "markdown",
   "id": "dae191bb",
   "metadata": {},
   "source": [
    "# 4- Validation"
   ]
  },
  {
   "cell_type": "markdown",
   "id": "6c00ce43",
   "metadata": {},
   "source": [
    "here we miust validate the VSN normalization whether it is any good"
   ]
  },
  {
   "cell_type": "code",
   "execution_count": 5,
   "id": "6b602352-f4a5-4c6e-9d5b-8c2089cdbda7",
   "metadata": {},
   "outputs": [],
   "source": [
    "import pandas as pd\n",
    "import os\n",
    "import yaml\n",
    "\n",
    "# Load configuration\n",
    "with open('config.yaml', 'r') as file:\n",
    "    config = yaml.safe_load(file)\n",
    "\n",
    "# Accessing config values\n",
    "non_normalized_dir = config['datasets']['categorized_dir']\n",
    "normalized_dir = config['datasets']['normalized_dir']\n",
    "\n",
    "# Construct the file paths\n",
    "asthma_after = os.path.join(non_normalized_dir, 'df_after_asthma_filtered.csv')\n",
    "asthma_before = os.path.join(non_normalized_dir, 'df_before_asthma_filtered.csv')\n",
    "control_after = os.path.join(non_normalized_dir, 'df_after_control_filtered.csv')\n",
    "control_before = os.path.join(non_normalized_dir, 'df_before_control_filtered.csv')\n",
    "\n",
    "asthma_after_norm = os.path.join(normalized_dir, 'df_after_asthma_VSN.csv')\n",
    "asthma_before_norm = os.path.join(normalized_dir, 'df_before_asthma_VSN.csv')\n",
    "control_after_norm = os.path.join(normalized_dir, 'df_after_control_VSN.csv')\n",
    "control_before_norm = os.path.join(normalized_dir, 'df_before_control_VSN.csv')"
   ]
  },
  {
   "cell_type": "code",
   "execution_count": 6,
   "id": "bf27dcb5-e826-43f1-b674-af77f99171b3",
   "metadata": {},
   "outputs": [],
   "source": [
    "df_list = [\n",
    "    (asthma_after, asthma_after_norm, 'asthma_after'), \n",
    "    (asthma_before, asthma_before_norm, 'asthma_before'), \n",
    "    (control_after, control_after_norm, 'control_after'), \n",
    "    (control_before, control_before_norm, 'control_before')\n",
    "]"
   ]
  },
  {
   "cell_type": "code",
   "execution_count": 8,
   "id": "39b579f5",
   "metadata": {},
   "outputs": [
    {
     "name": "stdout",
     "output_type": "stream",
     "text": [
      "Summary statistics for asthma_after saved to Validation_summary_asthma_after.csv\n",
      "Summary statistics for asthma_before saved to Validation_summary_asthma_before.csv\n",
      "Summary statistics for control_after saved to Validation_summary_control_after.csv\n",
      "Summary statistics for control_before saved to Validation_summary_control_before.csv\n"
     ]
    }
   ],
   "source": [
    "# Validation function\n",
    "def validator(df_original_path, df_normalized_path, df_name):\n",
    "    # Load the dataframes\n",
    "    df_original = pd.read_csv(df_original_path)\n",
    "    df_normalized = pd.read_csv(df_normalized_path)\n",
    "    \n",
    "    # Exclude the first column (assuming it's the protein names)\n",
    "    df_original_values = df_original.iloc[:, 1:]\n",
    "    df_normalized_values = df_normalized.iloc[:, 1:]\n",
    "    \n",
    "    # Calculate the means, standard deviations, and variances for both datasets\n",
    "    original_means = df_original_values.mean(axis=0)\n",
    "    vsn_means = df_normalized_values.mean(axis=0)\n",
    "\n",
    "    original_stds = df_original_values.std(axis=0)\n",
    "    vsn_stds = df_normalized_values.std(axis=0)\n",
    "\n",
    "    original_vars = df_original_values.var(axis=0)\n",
    "    vsn_vars = df_normalized_values.var(axis=0)\n",
    "\n",
    "    # Create a dataframe to summarize these statistics\n",
    "    summary_df = pd.DataFrame({\n",
    "        'Original_Means': original_means,\n",
    "        'VSN_Means': vsn_means,\n",
    "        'Original_Stds': original_stds,\n",
    "        'VSN_Stds': vsn_stds,\n",
    "        'Original_Vars': original_vars,\n",
    "        'VSN_Vars': vsn_vars\n",
    "    })\n",
    "\n",
    "    # Save the summary statistics to a CSV file for reporting\n",
    "    summary_file_name = f'Validation_summary_{df_name}.csv'\n",
    "    summary_df.to_csv(summary_file_name)\n",
    "    print(f\"Summary statistics for {df_name} saved to {summary_file_name}\")\n",
    "\n",
    "# Iterate over the file paths list and run the validator function\n",
    "for original_path, normalized_path, name in df_list:\n",
    "    validator(original_path, normalized_path, name)"
   ]
  }
 ],
 "metadata": {
  "kernelspec": {
   "display_name": "Python [conda env:rpy2_env]",
   "language": "python",
   "name": "conda-env-rpy2_env-py"
  },
  "language_info": {
   "codemirror_mode": {
    "name": "ipython",
    "version": 3
   },
   "file_extension": ".py",
   "mimetype": "text/x-python",
   "name": "python",
   "nbconvert_exporter": "python",
   "pygments_lexer": "ipython3",
   "version": "3.9.18"
  }
 },
 "nbformat": 4,
 "nbformat_minor": 5
}
